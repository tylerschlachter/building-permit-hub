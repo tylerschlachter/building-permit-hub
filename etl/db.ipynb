{
 "cells": [
  {
   "cell_type": "markdown",
   "metadata": {},
   "source": [
    "### Import Required Libraries\n",
    "Import the necessary libraries, including boto3 and psycopg2."
   ]
  },
  {
   "cell_type": "code",
   "execution_count": 3,
   "metadata": {},
   "outputs": [],
   "source": [
    "import boto3\n",
    "import psycopg2\n",
    "from psycopg2 import sql"
   ]
  },
  {
   "cell_type": "markdown",
   "metadata": {},
   "source": [
    "### Set Up AWS RDS Connection\n",
    "Set up the connection to the AWS RDS instance using boto3 and psycopg2."
   ]
  },
  {
   "cell_type": "code",
   "execution_count": null,
   "metadata": {},
   "outputs": [
    {
     "name": "stdout",
     "output_type": "stream",
     "text": [
      "Databases:\n",
      "template0\n",
      "template1\n",
      "postgres\n",
      "permits_data\n",
      "rdsadmin\n",
      "\n",
      "Tables in database 'permits_data':\n"
     ]
    }
   ],
   "source": [
    "# Set Up AWS RDS Connection\n",
    "\n",
    "# Define the connection parameters - pull all this from .env\n",
    "rds_host = \"\"\n",
    "db_name = \"\"\n",
    "db_user = \"\"\n",
    "db_password = \"\"\n",
    "db_port = 5432\n",
    "\n",
    "# Create a boto3 client for RDS\n",
    "rds_client = boto3.client('rds')\n",
    "\n",
    "# Function to connect to the RDS instance and list database names/tables\n",
    "def list_databases_and_tables():\n",
    "    try:\n",
    "        # Connect to the PostgreSQL database\n",
    "        connection = psycopg2.connect(\n",
    "            host=rds_host,\n",
    "            database=db_name,\n",
    "            user=db_user,\n",
    "            password=db_password,\n",
    "            port=db_port\n",
    "        )\n",
    "        cursor = connection.cursor()\n",
    "        \n",
    "        # List all databases\n",
    "        cursor.execute(\"SELECT datname FROM pg_database;\")\n",
    "        databases = cursor.fetchall()\n",
    "        print(\"Databases:\")\n",
    "        for db in databases:\n",
    "            print(db[0])\n",
    "        \n",
    "        # List all tables in the specified database\n",
    "        cursor.execute(sql.SQL(\"SELECT table_name FROM information_schema.tables WHERE table_schema = 'public';\"))\n",
    "        tables = cursor.fetchall()\n",
    "        print(\"\\nTables in database '{}':\".format(db_name))\n",
    "        for table in tables:\n",
    "            print(table[0])\n",
    "        \n",
    "        # Close the cursor and connection\n",
    "        cursor.close()\n",
    "        connection.close()\n",
    "    except Exception as e:\n",
    "        print(\"Error: \", e)\n",
    "\n",
    "# Call the function to list databases and tables\n",
    "list_databases_and_tables()"
   ]
  },
  {
   "cell_type": "markdown",
   "metadata": {},
   "source": [
    "### List Database Names\n",
    "Write a function to list all database names in the RDS instance."
   ]
  },
  {
   "cell_type": "code",
   "execution_count": 6,
   "metadata": {},
   "outputs": [
    {
     "name": "stdout",
     "output_type": "stream",
     "text": [
      "Databases:\n",
      "template0\n",
      "template1\n",
      "postgres\n",
      "permits_data\n",
      "rdsadmin\n"
     ]
    }
   ],
   "source": [
    "# List Database Names\n",
    "\n",
    "def list_database_names():\n",
    "    try:\n",
    "        # Connect to the PostgreSQL database\n",
    "        connection = psycopg2.connect(\n",
    "            host=rds_host,\n",
    "            user=db_user,\n",
    "            password=db_password,\n",
    "            port=db_port\n",
    "        )\n",
    "        cursor = connection.cursor()\n",
    "        \n",
    "        # List all databases\n",
    "        cursor.execute(\"SELECT datname FROM pg_database;\")\n",
    "        databases = cursor.fetchall()\n",
    "        print(\"Databases:\")\n",
    "        for db in databases:\n",
    "            print(db[0])\n",
    "        \n",
    "        # Close the cursor and connection\n",
    "        cursor.close()\n",
    "        connection.close()\n",
    "    except Exception as e:\n",
    "        print(\"Error: \", e)\n",
    "\n",
    "# Call the function to list database names\n",
    "list_database_names()"
   ]
  },
  {
   "cell_type": "markdown",
   "metadata": {},
   "source": [
    "### List Tables in a Database\n",
    "Write a function to list all tables in a specified database."
   ]
  },
  {
   "cell_type": "code",
   "execution_count": 7,
   "metadata": {},
   "outputs": [
    {
     "name": "stdout",
     "output_type": "stream",
     "text": [
      "\n",
      "Tables in database 'permits_data':\n"
     ]
    }
   ],
   "source": [
    "# List Tables in a Database\n",
    "\n",
    "def list_tables_in_database(database_name):\n",
    "    try:\n",
    "        # Connect to the specified PostgreSQL database\n",
    "        connection = psycopg2.connect(\n",
    "            host=rds_host,\n",
    "            database=database_name,\n",
    "            user=db_user,\n",
    "            password=db_password,\n",
    "            port=db_port\n",
    "        )\n",
    "        cursor = connection.cursor()\n",
    "        \n",
    "        # List all tables in the specified database\n",
    "        cursor.execute(sql.SQL(\"SELECT table_name FROM information_schema.tables WHERE table_schema = 'public';\"))\n",
    "        tables = cursor.fetchall()\n",
    "        print(\"\\nTables in database '{}':\".format(database_name))\n",
    "        for table in tables:\n",
    "            print(table[0])\n",
    "        \n",
    "        # Close the cursor and connection\n",
    "        cursor.close()\n",
    "        connection.close()\n",
    "    except Exception as e:\n",
    "        print(\"Error: \", e)\n",
    "\n",
    "# Call the function to list tables in the specified database\n",
    "list_tables_in_database(db_name)"
   ]
  },
  {
   "cell_type": "code",
   "execution_count": null,
   "metadata": {},
   "outputs": [],
   "source": []
  }
 ],
 "metadata": {
  "kernelspec": {
   "display_name": "venv",
   "language": "python",
   "name": "python3"
  },
  "language_info": {
   "codemirror_mode": {
    "name": "ipython",
    "version": 3
   },
   "file_extension": ".py",
   "mimetype": "text/x-python",
   "name": "python",
   "nbconvert_exporter": "python",
   "pygments_lexer": "ipython3",
   "version": "3.12.3"
  }
 },
 "nbformat": 4,
 "nbformat_minor": 2
}
